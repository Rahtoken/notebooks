{
 "metadata": {
  "kernelspec": {
   "display_name": ".NET (C#)",
   "language": "C#",
   "name": ".net-csharp"
  },
  "language_info": {
   "name": "C#"
  }
 },
 "cells": [
  {
   "cell_type": "markdown",
   "source": [
    "Start the Azurite container: `docker run -p 10000:10000 -p 10001:10001 -p 10002:10002 mcr.microsoft.com/azure-storage/azurite`"
   ],
   "metadata": {}
  },
  {
   "cell_type": "code",
   "execution_count": null,
   "source": [
    "#r \"nuget: Azure.Data.Tables\""
   ],
   "outputs": [
    {
     "output_type": "display_data",
     "data": {
      "text/html": [
       "<div><div></div><div></div><div><strong>Installed Packages</strong><ul><li><span>Azure.Data.Tables, 12.1.0</span></li></ul></div></div>"
      ]
     },
     "metadata": {}
    }
   ],
   "metadata": {
    "dotnet_interactive": {
     "language": "csharp"
    }
   }
  },
  {
   "cell_type": "code",
   "execution_count": null,
   "source": [
    "using Azure.Data.Tables;\r\n",
    "\r\n",
    "const string CONNECTINON_STRING = \"UseDevelopmentStorage=true\";\r\n",
    "const string TABLE_NAME = \"TABLE\";\r\n",
    "\r\n",
    "var client = new TableClient(CONNECTINON_STRING, TABLE_NAME);\r\n",
    "await client.CreateIfNotExistsAsync();"
   ],
   "outputs": [],
   "metadata": {
    "dotnet_interactive": {
     "language": "csharp"
    }
   }
  },
  {
   "cell_type": "code",
   "execution_count": null,
   "source": [
    "using Azure;\r\n",
    "\r\n",
    "public record Data: ITableEntity\r\n",
    "{\r\n",
    "  public string DataValue { get; set; }\r\n",
    "  public string PartitionKey { get; set; }\r\n",
    "  public string RowKey { get; set; }\r\n",
    "  public DateTimeOffset? Timestamp { get; set; }\r\n",
    "  public Azure.ETag ETag { get; set; }\r\n",
    "}"
   ],
   "outputs": [],
   "metadata": {
    "dotnet_interactive": {
     "language": "csharp"
    }
   }
  },
  {
   "cell_type": "code",
   "execution_count": null,
   "source": [
    "string pk = Guid.NewGuid().ToString();\r\n",
    "var firstEntity = new Data\r\n",
    "{\r\n",
    "  DataValue = \"Some\",\r\n",
    "  PartitionKey = pk,\r\n",
    "  RowKey = Guid.NewGuid().ToString()\r\n",
    "};\r\n",
    "\r\n",
    "var secondEntity = firstEntity with { DataValue = \"Thing\", RowKey = Guid.NewGuid().ToString() };"
   ],
   "outputs": [],
   "metadata": {
    "dotnet_interactive": {
     "language": "csharp"
    }
   }
  },
  {
   "cell_type": "code",
   "execution_count": null,
   "source": [
    "await client.AddEntityAsync(firstEntity);\r\n",
    "await client.AddEntityAsync(secondEntity);"
   ],
   "outputs": [],
   "metadata": {
    "dotnet_interactive": {
     "language": "csharp"
    }
   }
  },
  {
   "cell_type": "code",
   "execution_count": null,
   "source": [
    "// The data access layer\r\n",
    "var queryResults = client.Query<Data>(d => true);\r\n",
    "var results = queryResults.Select(q => q);\r\n",
    "\r\n",
    "// The app code\r\n",
    "\r\n",
    "var store = results.ToList();\r\n",
    "\r\n",
    "// The update\r\n",
    "foreach (var s in store)\r\n",
    "{\r\n",
    "  s.DataValue = \"Mutated\";\r\n",
    "}\r\n",
    "\r\n",
    "var response = queryResults.ToList();\r\n",
    "foreach (var r in response)\r\n",
    "{\r\n",
    "  r.Display();\r\n",
    "}"
   ],
   "outputs": [
    {
     "output_type": "display_data",
     "data": {
      "text/html": [
       "<table><thead><tr><th>DataValue</th><th>PartitionKey</th><th>RowKey</th><th>Timestamp</th><th>ETag</th></tr></thead><tbody><tr><td><div class=\"dni-plaintext\">Thing</div></td><td><div class=\"dni-plaintext\">32e6867c-2927-477d-9694-6da1ead07ac8</div></td><td><div class=\"dni-plaintext\">3cd91573-cfbd-4f93-aef6-135c90dc5cd4</div></td><td><div class=\"dni-plaintext\">2021-08-29 10:44:49Z</div></td><td><div class=\"dni-plaintext\">W/&quot;datetime&#39;2021-08-29T10%3A44%3A49.7000000Z&#39;&quot;</div></td></tr></tbody></table>"
      ]
     },
     "metadata": {}
    },
    {
     "output_type": "display_data",
     "data": {
      "text/html": [
       "<table><thead><tr><th>DataValue</th><th>PartitionKey</th><th>RowKey</th><th>Timestamp</th><th>ETag</th></tr></thead><tbody><tr><td><div class=\"dni-plaintext\">Some</div></td><td><div class=\"dni-plaintext\">32e6867c-2927-477d-9694-6da1ead07ac8</div></td><td><div class=\"dni-plaintext\">7bccc97c-515a-4ec3-9586-ad2b58ac335a</div></td><td><div class=\"dni-plaintext\">2021-08-29 10:44:49Z</div></td><td><div class=\"dni-plaintext\">W/&quot;datetime&#39;2021-08-29T10%3A44%3A49.6960000Z&#39;&quot;</div></td></tr></tbody></table>"
      ]
     },
     "metadata": {}
    },
    {
     "output_type": "display_data",
     "data": {
      "text/html": [
       "<table><thead><tr><th>DataValue</th><th>PartitionKey</th><th>RowKey</th><th>Timestamp</th><th>ETag</th></tr></thead><tbody><tr><td><div class=\"dni-plaintext\">Thing</div></td><td><div class=\"dni-plaintext\">cbd905a7-eab5-49d4-847f-aafcfd94983c</div></td><td><div class=\"dni-plaintext\">a2853d5d-7895-455b-a669-ffac8c50d683</div></td><td><div class=\"dni-plaintext\">2021-08-29 10:31:06Z</div></td><td><div class=\"dni-plaintext\">W/&quot;datetime&#39;2021-08-29T10%3A31%3A06.6080000Z&#39;&quot;</div></td></tr></tbody></table>"
      ]
     },
     "metadata": {}
    },
    {
     "output_type": "display_data",
     "data": {
      "text/html": [
       "<table><thead><tr><th>DataValue</th><th>PartitionKey</th><th>RowKey</th><th>Timestamp</th><th>ETag</th></tr></thead><tbody><tr><td><div class=\"dni-plaintext\">Some</div></td><td><div class=\"dni-plaintext\">cbd905a7-eab5-49d4-847f-aafcfd94983c</div></td><td><div class=\"dni-plaintext\">f3851696-ff71-4e1c-b49d-f9683675b111</div></td><td><div class=\"dni-plaintext\">2021-08-29 10:31:06Z</div></td><td><div class=\"dni-plaintext\">W/&quot;datetime&#39;2021-08-29T10%3A31%3A06.6010000Z&#39;&quot;</div></td></tr></tbody></table>"
      ]
     },
     "metadata": {}
    },
    {
     "output_type": "display_data",
     "data": {
      "text/html": [
       "<table><thead><tr><th>DataValue</th><th>PartitionKey</th><th>RowKey</th><th>Timestamp</th><th>ETag</th></tr></thead><tbody><tr><td><div class=\"dni-plaintext\">Some</div></td><td><div class=\"dni-plaintext\">f38c6ab3-136d-434b-9f32-650183a9fd8b</div></td><td><div class=\"dni-plaintext\">3e60bb01-161f-4497-9bdc-17e9c8d8fad6</div></td><td><div class=\"dni-plaintext\">2021-08-29 10:40:45Z</div></td><td><div class=\"dni-plaintext\">W/&quot;datetime&#39;2021-08-29T10%3A40%3A45.1170000Z&#39;&quot;</div></td></tr></tbody></table>"
      ]
     },
     "metadata": {}
    },
    {
     "output_type": "display_data",
     "data": {
      "text/html": [
       "<table><thead><tr><th>DataValue</th><th>PartitionKey</th><th>RowKey</th><th>Timestamp</th><th>ETag</th></tr></thead><tbody><tr><td><div class=\"dni-plaintext\">Thing</div></td><td><div class=\"dni-plaintext\">f38c6ab3-136d-434b-9f32-650183a9fd8b</div></td><td><div class=\"dni-plaintext\">99c68937-07a2-45ae-b9db-31975fc45173</div></td><td><div class=\"dni-plaintext\">2021-08-29 10:40:45Z</div></td><td><div class=\"dni-plaintext\">W/&quot;datetime&#39;2021-08-29T10%3A40%3A45.1210000Z&#39;&quot;</div></td></tr></tbody></table>"
      ]
     },
     "metadata": {}
    },
    {
     "output_type": "display_data",
     "data": {
      "text/html": [
       "<table><thead><tr><th>DataValue</th><th>PartitionKey</th><th>RowKey</th><th>Timestamp</th><th>ETag</th></tr></thead><tbody><tr><td><div class=\"dni-plaintext\">Thing</div></td><td><div class=\"dni-plaintext\">fb4f7256-0fdd-43fe-9d09-a5f875b73fd0</div></td><td><div class=\"dni-plaintext\">c24d7626-01d7-4bec-bb37-ac23d5409c87</div></td><td><div class=\"dni-plaintext\">2021-08-29 10:29:16Z</div></td><td><div class=\"dni-plaintext\">W/&quot;datetime&#39;2021-08-29T10%3A29%3A16.6370000Z&#39;&quot;</div></td></tr></tbody></table>"
      ]
     },
     "metadata": {}
    },
    {
     "output_type": "display_data",
     "data": {
      "text/html": [
       "<table><thead><tr><th>DataValue</th><th>PartitionKey</th><th>RowKey</th><th>Timestamp</th><th>ETag</th></tr></thead><tbody><tr><td><div class=\"dni-plaintext\">Some</div></td><td><div class=\"dni-plaintext\">fb4f7256-0fdd-43fe-9d09-a5f875b73fd0</div></td><td><div class=\"dni-plaintext\">d48c18ed-685a-4a43-b72c-a4ca87670a44</div></td><td><div class=\"dni-plaintext\">2021-08-29 10:29:16Z</div></td><td><div class=\"dni-plaintext\">W/&quot;datetime&#39;2021-08-29T10%3A29%3A16.6260000Z&#39;&quot;</div></td></tr></tbody></table>"
      ]
     },
     "metadata": {}
    },
    {
     "output_type": "display_data",
     "data": {
      "text/html": [
       "<table><thead><tr><th>DataValue</th><th>PartitionKey</th><th>RowKey</th><th>Timestamp</th><th>ETag</th></tr></thead><tbody><tr><td><div class=\"dni-plaintext\">Thing</div></td><td><div class=\"dni-plaintext\">ffb3e75e-ee50-40b6-8adb-5c86c76cfd56</div></td><td><div class=\"dni-plaintext\">434eb3cd-f97b-499e-bc4e-651e4d8121cf</div></td><td><div class=\"dni-plaintext\">2021-08-29 10:40:34Z</div></td><td><div class=\"dni-plaintext\">W/&quot;datetime&#39;2021-08-29T10%3A40%3A34.0760000Z&#39;&quot;</div></td></tr></tbody></table>"
      ]
     },
     "metadata": {}
    },
    {
     "output_type": "display_data",
     "data": {
      "text/html": [
       "<table><thead><tr><th>DataValue</th><th>PartitionKey</th><th>RowKey</th><th>Timestamp</th><th>ETag</th></tr></thead><tbody><tr><td><div class=\"dni-plaintext\">Some</div></td><td><div class=\"dni-plaintext\">ffb3e75e-ee50-40b6-8adb-5c86c76cfd56</div></td><td><div class=\"dni-plaintext\">69bf1e16-7723-4cc1-91c1-2eba9e2793af</div></td><td><div class=\"dni-plaintext\">2021-08-29 10:40:34Z</div></td><td><div class=\"dni-plaintext\">W/&quot;datetime&#39;2021-08-29T10%3A40%3A34.0710000Z&#39;&quot;</div></td></tr></tbody></table>"
      ]
     },
     "metadata": {}
    }
   ],
   "metadata": {
    "dotnet_interactive": {
     "language": "csharp"
    }
   }
  }
 ],
 "nbformat": 4,
 "nbformat_minor": 2
}